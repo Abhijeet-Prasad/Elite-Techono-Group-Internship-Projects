{
 "cells": [
  {
   "cell_type": "markdown",
   "metadata": {},
   "source": [
    "<h1 style=\"text-align:center; font-size: 40px\"> Summer Olympics Data Analysis Assignment</h1> <hr>"
   ]
  },
  {
   "cell_type": "code",
   "execution_count": null,
   "metadata": {
    "scrolled": true
   },
   "outputs": [],
   "source": [
    "# Importing required libraries.\n",
    "import pandas as pd\n",
    "import matplotlib.pyplot as plt\n",
    "print(\"Libraries Imported...\")"
   ]
  },
  {
   "cell_type": "code",
   "execution_count": null,
   "metadata": {},
   "outputs": [],
   "source": [
    "# Reading data from the csv file.\n",
    "df = pd.read_csv(\"summer.csv\")\n",
    "display(df.head())"
   ]
  },
  {
   "cell_type": "code",
   "execution_count": null,
   "metadata": {},
   "outputs": [],
   "source": [
    "# function to add title,x-label,y-label and bar values to the bar graphs\n",
    "\n",
    "def addGraphElements(Title,X,Y,barValues,n):\n",
    "    plt.title(Title)\n",
    "    plt.xlabel(X)\n",
    "    plt.ylabel(Y)\n",
    "    for i in range(5):\n",
    "        plt.text(i,barValues[i]-n,barValues[i],ha = 'center')"
   ]
  },
  {
   "cell_type": "markdown",
   "metadata": {},
   "source": [
    "## Q1. In how many cities Summer Olympics is held so far?"
   ]
  },
  {
   "cell_type": "markdown",
   "metadata": {},
   "source": [
    "### __Method 1__"
   ]
  },
  {
   "cell_type": "code",
   "execution_count": null,
   "metadata": {
    "scrolled": true
   },
   "outputs": [],
   "source": [
    "print(\"The Summer Olympics is held in {} cities so far.\".format(len(set(df['City']))))"
   ]
  },
  {
   "cell_type": "markdown",
   "metadata": {},
   "source": [
    "### __Method 2__"
   ]
  },
  {
   "cell_type": "code",
   "execution_count": null,
   "metadata": {
    "scrolled": true
   },
   "outputs": [],
   "source": [
    "print(\"The Summer Olympics is held in {} cities so far.\".format(len(df['City'].unique())))"
   ]
  },
  {
   "cell_type": "markdown",
   "metadata": {},
   "source": [
    "&nbsp;\n",
    "## Q2. Which sport is having most number of Gold Medals so far? (Top 5)"
   ]
  },
  {
   "cell_type": "markdown",
   "metadata": {},
   "source": [
    "### __Method 1__"
   ]
  },
  {
   "cell_type": "code",
   "execution_count": null,
   "metadata": {
    "scrolled": false
   },
   "outputs": [],
   "source": [
    "data = []\n",
    "\n",
    "for Sport in df['Sport'].unique():\n",
    "    data.append([Sport, len(df[(df['Sport'] == Sport) & (df['Medal']=='Gold')])])\n",
    "\n",
    "#Converting the data list to pandas dataframe\n",
    "Top_Gold_Medalist = pd.DataFrame(data,columns = ['Sports','Gold_Medal']).sort_values(by='Gold_Medal', ascending=False).head()\n",
    "\n",
    "#Plotting Graph using the New dataframe created.\n",
    "Top_Gold_Medalist.plot(x=\"Sports\", y=\"Gold_Medal\",kind=\"bar\",figsize=(7,5),color=\"#daa520\")\n",
    "\n",
    "# Call function addGraphElements to add elements to Graph.(Title,x-label,y-label,bar-values,n)\n",
    "addGraphElements('Top 5 Sports with highest number of Gold Medals','Sports','Total Gold Medals',list(Top_Gold_Medalist['Gold_Medal']),50)\n"
   ]
  },
  {
   "cell_type": "markdown",
   "metadata": {},
   "source": [
    "### __Method 2__"
   ]
  },
  {
   "cell_type": "code",
   "execution_count": null,
   "metadata": {
    "scrolled": false
   },
   "outputs": [],
   "source": [
    "Top_Gold_Medalist = df[df['Medal']  == 'Gold'].groupby('Sport').count()['Medal'].sort_values(ascending = False).head()\n",
    "\n",
    "Top_Gold_Medalist.plot(kind=\"bar\",figsize=(7,5),color=\"#daa520\")\n",
    "\n",
    "# Call function addGraphElements to add elements to Graph.(Title,x-label,y-label,bar-values,n)\n",
    "addGraphElements('Top 5 Sports with highest number of Gold Medals','Sports','Total Gold Medals',list(Top_Gold_Medalist),50)"
   ]
  },
  {
   "cell_type": "markdown",
   "metadata": {},
   "source": [
    "&nbsp;\n",
    "## Q3. Which sport is having most number of medals so far? (Top 5)"
   ]
  },
  {
   "cell_type": "markdown",
   "metadata": {},
   "source": [
    "### __Method 1__"
   ]
  },
  {
   "cell_type": "code",
   "execution_count": null,
   "metadata": {
    "scrolled": false
   },
   "outputs": [],
   "source": [
    "data = []\n",
    "for Sport in df['Sport'].unique():\n",
    "    data.append([Sport, len(df[df['Sport'] == Sport])])\n",
    "\n",
    "Highest_Medals = pd.DataFrame(data,columns = ['Sports','Medals']).sort_values(by='Medals', ascending=False).head()\n",
    "\n",
    "Highest_Medals.plot(x=\"Sports\", y=\"Medals\",kind=\"bar\",figsize=(7,5),color='#00bfff')\n",
    "\n",
    "# Call function addGraphElements to add elements to Graph.(Title,x-label,y-label,bar-values,n)\n",
    "addGraphElements('Top 5 Sports with highest number of Medals','Sports','Number Gold Medals',list(Highest_Medals['Medals']),160)"
   ]
  },
  {
   "cell_type": "markdown",
   "metadata": {},
   "source": [
    "### __Method 2__"
   ]
  },
  {
   "cell_type": "code",
   "execution_count": null,
   "metadata": {
    "scrolled": false
   },
   "outputs": [],
   "source": [
    "Highest_Medals = df.groupby('Sport').count()['Medal'].sort_values(ascending = False).head()\n",
    "\n",
    "Highest_Medals.plot(kind=\"bar\",figsize=(7,5),color='#00bfff')\n",
    "\n",
    "# Call function addGraphElements to add elements to Graph.(Title,x-label,y-label,bar-values,n)\n",
    "addGraphElements('Top 5 Sports with highest number of Medals','Sports','Number Gold Medals',list(Highest_Medals),160)"
   ]
  },
  {
   "cell_type": "markdown",
   "metadata": {},
   "source": [
    "&nbsp;\n",
    "## Q4. Which player has won most number of medals? (Top 5)"
   ]
  },
  {
   "cell_type": "markdown",
   "metadata": {},
   "source": [
    "### __Method 1__"
   ]
  },
  {
   "cell_type": "code",
   "execution_count": null,
   "metadata": {
    "scrolled": false
   },
   "outputs": [],
   "source": [
    "# Since the dataset is very large this method will take more time to execute. Method 2 is much faster.\n",
    "\n",
    "data = []\n",
    "\n",
    "for Athlete in df['Athlete'].unique():\n",
    "    data.append([Athlete, len(df[df['Athlete'] == Athlete])])\n",
    "\n",
    "Top_Medalist = pd.DataFrame(data,columns = ['Athlete','Medals']).sort_values(by='Medals', ascending=False).head()\n",
    "Top_Medalist.plot(x = 'Athlete', y = 'Medals', kind = 'bar', figsize = (7,5),color='#00bfff') \n",
    "\n",
    "# Call function addGraphElements to add elements to Graph.(Title,x-label,y-label,bar-values,n)\n",
    "addGraphElements('Top 5 Athletes with highest number of Medals','Athletes','Number of Gold Medals',list(Top_Medalist['Medals']),1)"
   ]
  },
  {
   "cell_type": "markdown",
   "metadata": {},
   "source": [
    "### __Method 2__"
   ]
  },
  {
   "cell_type": "code",
   "execution_count": null,
   "metadata": {
    "scrolled": false
   },
   "outputs": [],
   "source": [
    "Top_Medalist = df.groupby('Athlete').count()['Medal'].sort_values(ascending = False).head()\n",
    "\n",
    "Top_Medalist.plot(kind=\"bar\",figsize=(7,5),color='#00bfff')\n",
    "\n",
    "# Call function addGraphElements to add elements to Graph.(Title,x-label,y-label,bar-values,n)\n",
    "addGraphElements('Top 5 Athletes with highest number of Medals','Athletes','Number of Gold Medals',list(Top_Medalist),1)"
   ]
  },
  {
   "cell_type": "markdown",
   "metadata": {},
   "source": [
    "&nbsp;\n",
    "## Q5. Which player has won most number Gold Medals of medals? (Top 5)"
   ]
  },
  {
   "cell_type": "markdown",
   "metadata": {},
   "source": [
    "### __Method 1__"
   ]
  },
  {
   "cell_type": "code",
   "execution_count": null,
   "metadata": {
    "scrolled": false
   },
   "outputs": [],
   "source": [
    "data = []\n",
    "\n",
    "Gold_Medals = df[df['Medal']  == 'Gold']      # Selecting data for rows where Medal is gold.\n",
    "\n",
    "for Athlete in Gold_Medals['Athlete'].unique():\n",
    "    data.append([Athlete, len(Gold_Medals[Gold_Medals['Athlete'] == Athlete])])\n",
    "    \n",
    "Top_Glod_Medalist = pd.DataFrame(data,columns = ['Athlete','Medals']).sort_values(by='Medals', ascending=False).head()\n",
    "Top_Glod_Medalist.plot(x = 'Athlete', y = 'Medals', kind = 'bar', figsize = (7,5),color=\"#daa520\")\n",
    "\n",
    "# Call function addGraphElements to add elements to Graph.(Title,x-label,y-label,bar-values,n)\n",
    "addGraphElements('Top 5 Athletes with highest number of Gold Medals','Athletes','Number of Gold Medals',list(Top_Glod_Medalist['Medals']),1)"
   ]
  },
  {
   "cell_type": "markdown",
   "metadata": {},
   "source": [
    "### __Method 2__"
   ]
  },
  {
   "cell_type": "code",
   "execution_count": null,
   "metadata": {
    "scrolled": false
   },
   "outputs": [],
   "source": [
    "Top_Glod_Medalist = df[df['Medal']  == 'Gold'].groupby('Athlete').count()['Medal'].sort_values(ascending = False).head()\n",
    "\n",
    "Top_Glod_Medalist.plot(kind=\"bar\",figsize=(7,5),color=\"#daa520\")\n",
    "\n",
    "# Call function addGraphElements to add elements to Graph.(Title,x-label,y-label,bar-values,n)\n",
    "addGraphElements('Top 5 Athletes with highest number of Gold Medals','Athletes','Number of Gold Medals',list(Top_Glod_Medalist),1)"
   ]
  },
  {
   "cell_type": "markdown",
   "metadata": {},
   "source": [
    "&nbsp;\n",
    "## Q6. In which year India won first Gold Medal in Summer Olympics?"
   ]
  },
  {
   "cell_type": "code",
   "execution_count": null,
   "metadata": {
    "scrolled": true
   },
   "outputs": [],
   "source": [
    "India_Gold_Medals = df[(df['Medal']  == 'Gold') & (df['Country']=='IND')]\n",
    "\n",
    "print(\"India won its first Gold Medal in Summer Olympics in the year {}.\".format(India_Gold_Medals['Year'].min()))"
   ]
  },
  {
   "cell_type": "markdown",
   "metadata": {},
   "source": [
    "&nbsp;\n",
    "## Q7. Which event is most popular in terms on number of players? (Top 5)"
   ]
  },
  {
   "cell_type": "markdown",
   "metadata": {},
   "source": [
    "### __Method 1__"
   ]
  },
  {
   "cell_type": "code",
   "execution_count": null,
   "metadata": {
    "scrolled": false
   },
   "outputs": [],
   "source": [
    "data = []\n",
    "\n",
    "for Event in df['Event'].unique():\n",
    "    data.append([Event, len(df[df['Event'] == Event])])\n",
    "\n",
    "Popular_Events = pd.DataFrame(data,columns = ['Event','Event_Freq']).sort_values(by='Event_Freq', ascending=False).head()\n",
    "Popular_Events.plot(x = 'Event', y = 'Event_Freq', kind = 'bar', figsize = (7,5),color='#39ff14')\n",
    "\n",
    "# Call function addGraphElements to add elements to Graph.(Title,x-label,y-label,bar-values,n)\n",
    "addGraphElements('Top 5 most popular Events','Events','Number of Athletes',list(Popular_Events['Event_Freq']),60)"
   ]
  },
  {
   "cell_type": "markdown",
   "metadata": {},
   "source": [
    "### __Method 2__"
   ]
  },
  {
   "cell_type": "code",
   "execution_count": null,
   "metadata": {
    "scrolled": false
   },
   "outputs": [],
   "source": [
    "Popular_Events = df.groupby('Event').count()['Athlete'].sort_values(ascending = False).head()\n",
    "\n",
    "Popular_Events.plot(kind=\"bar\",figsize=(7,5),color='#39ff14')\n",
    "\n",
    "# Call function addGraphElements to add elements to Graph.(Title,x-label,y-label,bar-values,n)\n",
    "addGraphElements('Top 5 most popular Events','Events','Number of Athletes',list(Popular_Events),60)"
   ]
  },
  {
   "cell_type": "markdown",
   "metadata": {},
   "source": [
    "&nbsp;\n",
    "## Q8. Which sport is having most female Gold Medalists? (Top 5)"
   ]
  },
  {
   "cell_type": "markdown",
   "metadata": {},
   "source": [
    "### __Method 1__"
   ]
  },
  {
   "cell_type": "code",
   "execution_count": null,
   "metadata": {},
   "outputs": [],
   "source": [
    "Female_Gold_Medalist = df[(df['Medal']  == 'Gold') & (df['Gender']=='Women')]\n",
    "\n",
    "data = []\n",
    "for Sport in Female_Gold_Medalist['Sport'].unique():\n",
    "    data.append([Sport, len(Female_Gold_Medalist[Female_Gold_Medalist['Sport'] == Sport])])\n",
    "\n",
    "New_df = pd.DataFrame(data,columns = ['Sport','Sport_Freq']).sort_values(by='Sport_Freq', ascending=False).head()\n",
    "New_df.plot(x = 'Sport', y = 'Sport_Freq', kind = 'bar', figsize = (7,5),color=\"#daa520\")\n",
    "\n",
    "# Call function addGraphElements to add elements to Graph.(Title,x-label,y-label,bar-values,n)\n",
    "addGraphElements('Top 5 Sports with highest number of Female Gold Medalist','Sports','Number of Female Gold Medalist',list(New_df['Sport_Freq']),25)\n"
   ]
  },
  {
   "cell_type": "markdown",
   "metadata": {},
   "source": [
    "### __Method 2__"
   ]
  },
  {
   "cell_type": "code",
   "execution_count": null,
   "metadata": {},
   "outputs": [],
   "source": [
    "New_df = df[(df['Medal']  == 'Gold') & (df['Gender']=='Women')].groupby('Sport').count()['Medal'].sort_values(ascending = False).head()\n",
    "\n",
    "New_df.plot(kind=\"bar\",figsize=(7,5),color=\"#daa520\")\n",
    "\n",
    "# Call function addGraphElements to add elements to Graph.(Title,x-label,y-label,bar-values,n)\n",
    "addGraphElements('Top 5 Sports with highest number of Female Gold Medalist','Sports','Number of Female Gold Medalist',list(New_df),25)\n"
   ]
  }
 ],
 "metadata": {
  "kernelspec": {
   "display_name": "Python 3",
   "language": "python",
   "name": "python3"
  },
  "language_info": {
   "codemirror_mode": {
    "name": "ipython",
    "version": 3
   },
   "file_extension": ".py",
   "mimetype": "text/x-python",
   "name": "python",
   "nbconvert_exporter": "python",
   "pygments_lexer": "ipython3",
   "version": "3.8.8"
  }
 },
 "nbformat": 4,
 "nbformat_minor": 2
}
